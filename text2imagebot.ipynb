{
  "nbformat": 4,
  "nbformat_minor": 0,
  "metadata": {
    "colab": {
      "provenance": [],
      "gpuType": "T4"
    },
    "kernelspec": {
      "name": "python3",
      "display_name": "Python 3"
    },
    "language_info": {
      "name": "python"
    },
    "accelerator": "GPU"
  },
  "cells": [
    {
      "cell_type": "markdown",
      "source": [
        "# Telegram Bot to Run Stable Diffusion on Colab"
      ],
      "metadata": {
        "id": "a_gzgx6CV8Qp"
      }
    },
    {
      "cell_type": "markdown",
      "source": [
        "Clone the Repository"
      ],
      "metadata": {
        "id": "tAf59yqOWIu1"
      }
    },
    {
      "cell_type": "code",
      "execution_count": 1,
      "metadata": {
        "colab": {
          "base_uri": "https://localhost:8080/"
        },
        "id": "V7JYyXr1TdFg",
        "outputId": "e822c7c5-ea69-4ee7-fdca-baa9ccf7debd"
      },
      "outputs": [
        {
          "output_type": "stream",
          "name": "stdout",
          "text": [
            "Cloning into 'text2imagebot'...\n",
            "remote: Enumerating objects: 12, done.\u001b[K\n",
            "remote: Counting objects: 100% (12/12), done.\u001b[K\n",
            "remote: Compressing objects: 100% (10/10), done.\u001b[K\n",
            "remote: Total 12 (delta 1), reused 8 (delta 1), pack-reused 0\u001b[K\n",
            "Receiving objects: 100% (12/12), 4.91 KiB | 1.64 MiB/s, done.\n",
            "Resolving deltas: 100% (1/1), done.\n"
          ]
        }
      ],
      "source": [
        "!git clone https://github.com/nuhmanpk/text2imagebot.git"
      ]
    },
    {
      "cell_type": "markdown",
      "source": [
        "## Install Requirements"
      ],
      "metadata": {
        "id": "4OoGpMxIWMt_"
      }
    },
    {
      "cell_type": "code",
      "source": [
        "!pip install -r /content/text2imagebot/requirements.txt -qU"
      ],
      "metadata": {
        "id": "KR_o1WdXT39N"
      },
      "execution_count": 6,
      "outputs": []
    },
    {
      "cell_type": "markdown",
      "source": [
        "## Add Your bot token from Botfather, api_id and api_token from api.telegram.com"
      ],
      "metadata": {
        "id": "npEPFPvOWRta"
      }
    },
    {
      "cell_type": "code",
      "source": [
        "BOT_TOKEN = 'TOKEN'\n",
        "API_ID = 'API_ID'\n",
        "API_HASH = 'API_HASH'"
      ],
      "metadata": {
        "id": "brmYz-coUCXH"
      },
      "execution_count": 10,
      "outputs": []
    },
    {
      "cell_type": "markdown",
      "source": [
        "## Create .env file"
      ],
      "metadata": {
        "id": "JobUEs7sWb0O"
      }
    },
    {
      "cell_type": "code",
      "source": [
        "with open('.env', 'w') as f:\n",
        "    f.write(f\"BOT_TOKEN={BOT_TOKEN}\\n\")\n",
        "    f.write(f\"API_ID={API_ID}\\n\")\n",
        "    f.write(f\"API_HASH={API_HASH}\\n\")"
      ],
      "metadata": {
        "id": "jjpWlfnVUsxl"
      },
      "execution_count": 11,
      "outputs": []
    },
    {
      "cell_type": "markdown",
      "source": [
        "# Run Bot and start Using your bot"
      ],
      "metadata": {
        "id": "DZyY6pV_WjH6"
      }
    },
    {
      "cell_type": "code",
      "source": [
        "!python3 /content/text2imagebot/main.py"
      ],
      "metadata": {
        "colab": {
          "base_uri": "https://localhost:8080/"
        },
        "id": "Rc6QaF_DVAdC",
        "outputId": "fc224729-4c3d-44de-b24c-15d9f6b8231a"
      },
      "execution_count": 12,
      "outputs": [
        {
          "output_type": "stream",
          "name": "stdout",
          "text": [
            "2023-10-30 16:07:57.524141: E tensorflow/compiler/xla/stream_executor/cuda/cuda_dnn.cc:9342] Unable to register cuDNN factory: Attempting to register factory for plugin cuDNN when one has already been registered\n",
            "2023-10-30 16:07:57.524197: E tensorflow/compiler/xla/stream_executor/cuda/cuda_fft.cc:609] Unable to register cuFFT factory: Attempting to register factory for plugin cuFFT when one has already been registered\n",
            "2023-10-30 16:07:57.524240: E tensorflow/compiler/xla/stream_executor/cuda/cuda_blas.cc:1518] Unable to register cuBLAS factory: Attempting to register factory for plugin cuBLAS when one has already been registered\n",
            "2023-10-30 16:07:59.204612: W tensorflow/compiler/tf2tensorrt/utils/py_utils.cc:38] TF-TRT Warning: Could not find TensorRT\n",
            "Traceback (most recent call last):\n",
            "  File \"/content/text2imagebot/main.py\", line 26, in <module>\n",
            "    api_id=int(api_id), api_hash=api_hash)\n",
            "ValueError: invalid literal for int() with base 10: 'API_ID'\n"
          ]
        }
      ]
    },
    {
      "cell_type": "code",
      "source": [],
      "metadata": {
        "id": "m4CJuAEWVww-"
      },
      "execution_count": null,
      "outputs": []
    }
  ]
}